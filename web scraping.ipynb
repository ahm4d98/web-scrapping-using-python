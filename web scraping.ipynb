{
 "cells": [
  {
   "cell_type": "code",
   "execution_count": 1,
   "metadata": {
    "ExecuteTime": {
     "end_time": "2021-08-26T16:59:39.000724Z",
     "start_time": "2021-08-26T16:59:38.908911Z"
    }
   },
   "outputs": [],
   "source": [
    "from bs4 import BeautifulSoup\n",
    "import requests\n",
    "import time\n",
    "import datetime\n",
    "\n",
    "import smtplib"
   ]
  },
  {
   "cell_type": "markdown",
   "metadata": {},
   "source": [
    "# reading data"
   ]
  },
  {
   "cell_type": "code",
   "execution_count": 2,
   "metadata": {
    "ExecuteTime": {
     "end_time": "2021-08-26T16:59:39.016681Z",
     "start_time": "2021-08-26T16:59:39.003713Z"
    }
   },
   "outputs": [],
   "source": [
    "def reading_Amazon_data(URLs):\n",
    "    titles=[]\n",
    "    prices=[]\n",
    "    headers = {\"User-Agent\": \"Mozilla/5.0 (Windows NT 10.0; Win64; x64) AppleWebKit/537.36 (KHTML, like Gecko) Chrome/78.0.3904.108 Safari/537.36\", \"Accept-Encoding\":\"gzip, deflate\", \"Accept\":\"text/html,application/xhtml+xml,application/xml;q=0.9,*/*;q=0.8\", \"DNT\":\"1\",\"Connection\":\"close\", \"Upgrade-Insecure-Requests\":\"1\"}\n",
    "    for i in URLs:\n",
    "        page = requests.get(i, headers=headers)\n",
    "\n",
    "        soup1 = BeautifulSoup(page.content, \"html.parser\")\n",
    "\n",
    "        soup2 = BeautifulSoup(soup1.prettify(), \"html.parser\")\n",
    "\n",
    "        title = soup2.find(id='productTitle').get_text()\n",
    "        titles.append(title)\n",
    "        price = soup2.find(id='priceblock_ourprice').get_text()\n",
    "        prices.append(price)\n",
    "    return titles,prices"
   ]
  },
  {
   "cell_type": "code",
   "execution_count": 3,
   "metadata": {
    "ExecuteTime": {
     "end_time": "2021-08-26T16:59:52.007861Z",
     "start_time": "2021-08-26T16:59:39.018672Z"
    }
   },
   "outputs": [],
   "source": [
    "URLs = ['https://www.amazon.com/dp/B00NMFYNLM/ref=sspa_dk_detail_0?psc=1&pd_rd_i=B00NMFYNLM&pd_rd_w=Ce1B7&pf_rd_p=5d846283-ed3e-4512-a744-a30f97c5d738&pd_rd_wg=KZVK9&pf_rd_r=33JR68TFED2ZDT520Y6E&pd_rd_r=01c87b7e-bd04-47f5-bb7c-b6aad0aede94&spLa=ZW5jcnlwdGVkUXVhbGlmaWVyPUEzMFpOWEtHNUlTNEJUJmVuY3J5cHRlZElkPUEwNTA3NjU1MjdMTEVEU0JGTUM3UiZlbmNyeXB0ZWRBZElkPUEwNDkxMDQwMTY1U1NPQzUwSkc4TSZ3aWRnZXROYW1lPXNwX2RldGFpbF90aGVtYXRpYyZhY3Rpb249Y2xpY2tSZWRpcmVjdCZkb05vdExvZ0NsaWNrPXRydWU=','https://www.amazon.com/dp/B082PH9VXQ/ref=sspa_dk_detail_0?psc=1&pd_rd_i=B082PH9VXQ&pd_rd_w=JNLX6&pf_rd_p=5d846283-ed3e-4512-a744-a30f97c5d738&pd_rd_wg=1R08f&pf_rd_r=DPFAQCFPAPTG8KYHN4CN&pd_rd_r=64055df0-d222-4685-958b-f911382f472f&spLa=ZW5jcnlwdGVkUXVhbGlmaWVyPUEzTzFaVkZGSEoxRVAmZW5jcnlwdGVkSWQ9QTA2MDE5OTEySDE1RDJBU1k4WVcmZW5jcnlwdGVkQWRJZD1BMDU3NDM2NUc4SjhWVE4zMFNKWSZ3aWRnZXROYW1lPXNwX2RldGFpbF90aGVtYXRpYyZhY3Rpb249Y2xpY2tSZWRpcmVjdCZkb05vdExvZ0NsaWNrPXRydWU=','https://www.amazon.com/dp/B00HWEHPSC/ref=sspa_dk_detail_2?psc=1&pd_rd_i=B00HWEHPSC&pd_rd_w=DDuRM&pf_rd_p=5d846283-ed3e-4512-a744-a30f97c5d738&pd_rd_wg=3Uy7d&pf_rd_r=W6V5CSN6VYC6FEAPK0RC&pd_rd_r=2d90510b-3ce4-40cd-b6c3-b358bfb814ca&spLa=ZW5jcnlwdGVkUXVhbGlmaWVyPUEyMFpTMVkxR1hQTTdKJmVuY3J5cHRlZElkPUEwMDQ2MDI2MVBWSFlQSTVLNEFYJmVuY3J5cHRlZEFkSWQ9QTA2MjExMTYzQ01JWU0ySTJKWEUxJndpZGdldE5hbWU9c3BfZGV0YWlsX3RoZW1hdGljJmFjdGlvbj1jbGlja1JlZGlyZWN0JmRvTm90TG9nQ2xpY2s9dHJ1ZQ==','https://www.amazon.com/dp/B07HSNKT7H/ref=sspa_dk_detail_2?psc=1&pd_rd_i=B07HSNKT7H&pd_rd_w=6uaZu&pf_rd_p=5d846283-ed3e-4512-a744-a30f97c5d738&pd_rd_wg=QEkYI&pf_rd_r=XABHXG1V91C313AMT5ZG&pd_rd_r=e8f6a8e5-e842-420d-9aeb-6b32238f28b3&spLa=ZW5jcnlwdGVkUXVhbGlmaWVyPUExQ1ZJQTNGNFhYWTVHJmVuY3J5cHRlZElkPUEwNzUyMjkzMlNUNjNFT1JBUFhSSyZlbmNyeXB0ZWRBZElkPUEwNjk0ODg3Mk0zRExaUTk3MFRYNCZ3aWRnZXROYW1lPXNwX2RldGFpbF90aGVtYXRpYyZhY3Rpb249Y2xpY2tSZWRpcmVjdCZkb05vdExvZ0NsaWNrPXRydWU=','https://www.amazon.com/dp/B07XF78PW6/ref=sspa_dk_detail_3?psc=1&pd_rd_i=B07XF78PW6&pd_rd_w=fBwBf&pf_rd_p=5d846283-ed3e-4512-a744-a30f97c5d738&pd_rd_wg=BSNXw&pf_rd_r=X8HHG711K1E1BTCQ4818&pd_rd_r=93403270-a48d-4329-a8ff-95161cadde32&spLa=ZW5jcnlwdGVkUXVhbGlmaWVyPUFGN1BFNjdSR1IxQjUmZW5jcnlwdGVkSWQ9QTA3Mzk3NDFaUzdFWDJOSlUwSVAmZW5jcnlwdGVkQWRJZD1BMDIyODUzNTJLTEdZSk9NNk9GV0kmd2lkZ2V0TmFtZT1zcF9kZXRhaWxfdGhlbWF0aWMmYWN0aW9uPWNsaWNrUmVkaXJlY3QmZG9Ob3RMb2dDbGljaz10cnVl','https://www.amazon.com/Important-Choices-Video-Funny-Player/dp/B07YYXTW5G/ref=pd_di_sccai_7/131-1246388-7784647?pd_rd_w=y2duI&pf_rd_p=c9443270-b914-4430-a90b-72e3e7e784e0&pf_rd_r=JKA27M91DXNJ7NWBMKSB&pd_rd_r=1a72e0a4-1e7f-4a3d-a058-7ef766c735ee&pd_rd_wg=ScNjW&pd_rd_i=B07YYXTW5G&psc=1','https://www.amazon.com/Headset-Gaming-Funny-T-Shirt-Gamer/dp/B08RCLDLW8/ref=pd_di_sccai_4/131-1246388-7784647?pd_rd_w=YYTgL&pf_rd_p=c9443270-b914-4430-a90b-72e3e7e784e0&pf_rd_r=G01094Y9XHZ7YGYAGYAT&pd_rd_r=a36c1e09-0688-4f7e-8d56-d54d75d2bba9&pd_rd_wg=5gqFy&pd_rd_i=B08RCLDLW8&psc=1']\n",
    "titles,prices=reading_Amazon_data(URLs)\n"
   ]
  },
  {
   "cell_type": "markdown",
   "metadata": {},
   "source": [
    "# removing white spaces and \\n"
   ]
  },
  {
   "cell_type": "code",
   "execution_count": 4,
   "metadata": {
    "ExecuteTime": {
     "end_time": "2021-08-26T16:59:52.022828Z",
     "start_time": "2021-08-26T16:59:52.008858Z"
    }
   },
   "outputs": [],
   "source": [
    "for i in range(len(prices)):\n",
    "    \n",
    "    prices[i]=prices[i].strip()"
   ]
  },
  {
   "cell_type": "code",
   "execution_count": 5,
   "metadata": {
    "ExecuteTime": {
     "end_time": "2021-08-26T16:59:52.038133Z",
     "start_time": "2021-08-26T16:59:52.023818Z"
    }
   },
   "outputs": [],
   "source": [
    "for i in range(len(titles)):\n",
    "    \n",
    "    titles[i]=titles[i].strip()"
   ]
  },
  {
   "cell_type": "code",
   "execution_count": 6,
   "metadata": {
    "ExecuteTime": {
     "end_time": "2021-08-26T16:59:52.053739Z",
     "start_time": "2021-08-26T16:59:52.041787Z"
    }
   },
   "outputs": [
    {
     "data": {
      "text/plain": [
       "[\"I'm Not Anti-Social I'm Selectively Cool Sarcastic Novelty Graphic Funny T Shirt\",\n",
       " \"You're Overreacting | Chemistry Humor, Funny Science Teacher Pun Women's T-Shirt\",\n",
       " 'Never Trust an Atom, They Make Up Everything | Funny Science Unisex Graphic T-Shirt',\n",
       " 'Market Trendz Well Thats Not A Good Sign Funny T Shirts for Men | Graphic Tee',\n",
       " 'Market Trendz I Paused My Game to Be Here T Shirt Video Game Shirts for Men',\n",
       " 'Life is Full of Important Choices Video Funny T Shirt Games Gamer Player Tops Tees for Men',\n",
       " \"Headset Can't Hear You I'm Gaming Funny T-Shirt Gamer Video Game Tops Tees for Men\"]"
      ]
     },
     "execution_count": 6,
     "metadata": {},
     "output_type": "execute_result"
    }
   ],
   "source": [
    "titles"
   ]
  },
  {
   "cell_type": "code",
   "execution_count": 7,
   "metadata": {
    "ExecuteTime": {
     "end_time": "2021-08-26T16:59:52.068703Z",
     "start_time": "2021-08-26T16:59:52.054736Z"
    }
   },
   "outputs": [
    {
     "data": {
      "text/plain": [
       "['$16.99', '$16.95', '$15.95', '$18.95', '$17.95', '$14.95', '$12.95']"
      ]
     },
     "execution_count": 7,
     "metadata": {},
     "output_type": "execute_result"
    }
   ],
   "source": [
    "prices"
   ]
  },
  {
   "cell_type": "markdown",
   "metadata": {},
   "source": [
    "# adding Data into Dataframe"
   ]
  },
  {
   "cell_type": "code",
   "execution_count": 8,
   "metadata": {
    "ExecuteTime": {
     "end_time": "2021-08-26T16:59:52.542111Z",
     "start_time": "2021-08-26T16:59:52.069696Z"
    }
   },
   "outputs": [],
   "source": [
    "import pandas as pd"
   ]
  },
  {
   "cell_type": "code",
   "execution_count": 9,
   "metadata": {
    "ExecuteTime": {
     "end_time": "2021-08-26T16:59:52.558069Z",
     "start_time": "2021-08-26T16:59:52.543109Z"
    }
   },
   "outputs": [],
   "source": [
    "df=pd.DataFrame(titles,columns=['titles'])"
   ]
  },
  {
   "cell_type": "code",
   "execution_count": 10,
   "metadata": {
    "ExecuteTime": {
     "end_time": "2021-08-26T16:59:52.573028Z",
     "start_time": "2021-08-26T16:59:52.559071Z"
    }
   },
   "outputs": [],
   "source": [
    "df['prices']=prices"
   ]
  },
  {
   "cell_type": "code",
   "execution_count": 11,
   "metadata": {
    "ExecuteTime": {
     "end_time": "2021-08-26T16:59:52.588986Z",
     "start_time": "2021-08-26T16:59:52.574026Z"
    }
   },
   "outputs": [],
   "source": [
    "removing_dollar=df['prices']"
   ]
  },
  {
   "cell_type": "code",
   "execution_count": 12,
   "metadata": {
    "ExecuteTime": {
     "end_time": "2021-08-26T16:59:52.603946Z",
     "start_time": "2021-08-26T16:59:52.589984Z"
    }
   },
   "outputs": [],
   "source": [
    "for i in range(len(removing_dollar)):\n",
    "    removing_dollar[i]=removing_dollar[i][1:]"
   ]
  },
  {
   "cell_type": "code",
   "execution_count": 13,
   "metadata": {
    "ExecuteTime": {
     "end_time": "2021-08-26T16:59:52.618905Z",
     "start_time": "2021-08-26T16:59:52.604944Z"
    }
   },
   "outputs": [],
   "source": [
    "df['prices']=removing_dollar"
   ]
  },
  {
   "cell_type": "code",
   "execution_count": 14,
   "metadata": {
    "ExecuteTime": {
     "end_time": "2021-08-26T16:59:52.634863Z",
     "start_time": "2021-08-26T16:59:52.619903Z"
    }
   },
   "outputs": [
    {
     "data": {
      "text/html": [
       "<div>\n",
       "<style scoped>\n",
       "    .dataframe tbody tr th:only-of-type {\n",
       "        vertical-align: middle;\n",
       "    }\n",
       "\n",
       "    .dataframe tbody tr th {\n",
       "        vertical-align: top;\n",
       "    }\n",
       "\n",
       "    .dataframe thead th {\n",
       "        text-align: right;\n",
       "    }\n",
       "</style>\n",
       "<table border=\"1\" class=\"dataframe\">\n",
       "  <thead>\n",
       "    <tr style=\"text-align: right;\">\n",
       "      <th></th>\n",
       "      <th>titles</th>\n",
       "      <th>prices</th>\n",
       "    </tr>\n",
       "  </thead>\n",
       "  <tbody>\n",
       "    <tr>\n",
       "      <th>0</th>\n",
       "      <td>I'm Not Anti-Social I'm Selectively Cool Sarca...</td>\n",
       "      <td>16.99</td>\n",
       "    </tr>\n",
       "    <tr>\n",
       "      <th>1</th>\n",
       "      <td>You're Overreacting | Chemistry Humor, Funny S...</td>\n",
       "      <td>16.95</td>\n",
       "    </tr>\n",
       "    <tr>\n",
       "      <th>2</th>\n",
       "      <td>Never Trust an Atom, They Make Up Everything |...</td>\n",
       "      <td>15.95</td>\n",
       "    </tr>\n",
       "    <tr>\n",
       "      <th>3</th>\n",
       "      <td>Market Trendz Well Thats Not A Good Sign Funny...</td>\n",
       "      <td>18.95</td>\n",
       "    </tr>\n",
       "    <tr>\n",
       "      <th>4</th>\n",
       "      <td>Market Trendz I Paused My Game to Be Here T Sh...</td>\n",
       "      <td>17.95</td>\n",
       "    </tr>\n",
       "    <tr>\n",
       "      <th>5</th>\n",
       "      <td>Life is Full of Important Choices Video Funny ...</td>\n",
       "      <td>14.95</td>\n",
       "    </tr>\n",
       "    <tr>\n",
       "      <th>6</th>\n",
       "      <td>Headset Can't Hear You I'm Gaming Funny T-Shir...</td>\n",
       "      <td>12.95</td>\n",
       "    </tr>\n",
       "  </tbody>\n",
       "</table>\n",
       "</div>"
      ],
      "text/plain": [
       "                                              titles prices\n",
       "0  I'm Not Anti-Social I'm Selectively Cool Sarca...  16.99\n",
       "1  You're Overreacting | Chemistry Humor, Funny S...  16.95\n",
       "2  Never Trust an Atom, They Make Up Everything |...  15.95\n",
       "3  Market Trendz Well Thats Not A Good Sign Funny...  18.95\n",
       "4  Market Trendz I Paused My Game to Be Here T Sh...  17.95\n",
       "5  Life is Full of Important Choices Video Funny ...  14.95\n",
       "6  Headset Can't Hear You I'm Gaming Funny T-Shir...  12.95"
      ]
     },
     "execution_count": 14,
     "metadata": {},
     "output_type": "execute_result"
    }
   ],
   "source": [
    "df"
   ]
  },
  {
   "cell_type": "markdown",
   "metadata": {
    "ExecuteTime": {
     "end_time": "2021-08-26T16:51:41.725433Z",
     "start_time": "2021-08-26T16:51:41.710473Z"
    }
   },
   "source": [
    "# plotting dataset"
   ]
  },
  {
   "cell_type": "code",
   "execution_count": 15,
   "metadata": {
    "ExecuteTime": {
     "end_time": "2021-08-26T16:59:52.835327Z",
     "start_time": "2021-08-26T16:59:52.635860Z"
    }
   },
   "outputs": [],
   "source": [
    "import matplotlib.pyplot as plot"
   ]
  },
  {
   "cell_type": "code",
   "execution_count": 16,
   "metadata": {
    "ExecuteTime": {
     "end_time": "2021-08-26T16:59:53.003880Z",
     "start_time": "2021-08-26T16:59:52.836325Z"
    }
   },
   "outputs": [
    {
     "data": {
      "text/plain": [
       "([<matplotlib.axis.XTick at 0x1fa75a9fe80>,\n",
       "  <matplotlib.axis.XTick at 0x1fa75a9fe50>,\n",
       "  <matplotlib.axis.XTick at 0x1fa75a9f100>,\n",
       "  <matplotlib.axis.XTick at 0x1fa75b72d60>,\n",
       "  <matplotlib.axis.XTick at 0x1fa75b822b0>,\n",
       "  <matplotlib.axis.XTick at 0x1fa75b827c0>,\n",
       "  <matplotlib.axis.XTick at 0x1fa75b82cd0>],\n",
       " [Text(0, 0, ''),\n",
       "  Text(0, 0, ''),\n",
       "  Text(0, 0, ''),\n",
       "  Text(0, 0, ''),\n",
       "  Text(0, 0, ''),\n",
       "  Text(0, 0, ''),\n",
       "  Text(0, 0, '')])"
      ]
     },
     "execution_count": 16,
     "metadata": {},
     "output_type": "execute_result"
    },
    {
     "data": {
      "image/png": "[encoded data removed]",
      "text/plain": [
       "<Figure size 432x288 with 1 Axes>"
      ]
     },
     "metadata": {
      "needs_background": "light"
     },
     "output_type": "display_data"
    }
   ],
   "source": [
    "\n",
    "plot.bar(df['titles'],df['prices'])\n",
    "plot.ylim(10,20)\n",
    "plot.xticks(df['titles'],rotation='vertical',size=8)"
   ]
  },
  {
   "cell_type": "code",
   "execution_count": 17,
   "metadata": {
    "ExecuteTime": {
     "end_time": "2021-08-26T16:59:53.018840Z",
     "start_time": "2021-08-26T16:59:53.004873Z"
    }
   },
   "outputs": [],
   "source": [
    "df['prices']=df['prices'].astype('float')"
   ]
  },
  {
   "cell_type": "code",
   "execution_count": 18,
   "metadata": {
    "ExecuteTime": {
     "end_time": "2021-08-26T16:59:53.034798Z",
     "start_time": "2021-08-26T16:59:53.019834Z"
    }
   },
   "outputs": [
    {
     "data": {
      "text/plain": [
       "16.384285714285717"
      ]
     },
     "execution_count": 18,
     "metadata": {},
     "output_type": "execute_result"
    }
   ],
   "source": [
    "df['prices'].mean()"
   ]
  }
 ],
 "metadata": {
  "kernelspec": {
   "display_name": "Python 3",
   "language": "python",
   "name": "python3"
  },
  "language_info": {
   "codemirror_mode": {
    "name": "ipython",
    "version": 3
   },
   "file_extension": ".py",
   "mimetype": "text/x-python",
   "name": "python",
   "nbconvert_exporter": "python",
   "pygments_lexer": "ipython3",
   "version": "3.8.5"
  }
 },
 "nbformat": 4,
 "nbformat_minor": 4
}
